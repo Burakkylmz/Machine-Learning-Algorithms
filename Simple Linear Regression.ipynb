{
 "cells": [
  {
   "cell_type": "markdown",
   "metadata": {},
   "source": [
    "### Amaç\n",
    "\n",
    "Bu projede araba modelleri ve bu modellere ait bazı bilgiler bulunmaktadır. Amacımız bir araba firmasının ez an karbon salınımına sahip aracını, veri bilimi yöntemlerinden simple linear regression yöntemini kullanarak fiziki test masraflarına gerek kalamdan belirlemektir. Firma corbon salınımı en az aracı bulmak için fiziksel ortamda yapılacak test masraflarından kaçınmak için veri bilimine başvurmuştur. Carbon salımı en az olan aracı bularak daha sonra bu aracı prototipleyerek sıfır masrafla üretim aşamasına geçmek istemektedir.\n",
    "\n",
    "Bu projede yukarıda belirtildiği gibi simple linear regrassion kullanılacaktır. Regrasyon algoritmaları çeşitlilik göstermektedir ve veri bilimi konusunda en çok tercih edilen algoritmaların başında gelmektedir. Bunun nedeni kullanımı kolay ve hızlı olmasıdır.<br>\n",
    "\n",
    "##### Linear Regrasyon Nedir?\n",
    "Doğrusal regresyon, iki veya daha fazla değişken arasındaki ilişkiyi tanımlamak için kullanılan doğrusal bir modelin yaklaşımıdır. Basit doğrusal regresyonda iki değişken vardır: bağımlı değişken ve bağımsız değişken. Doğrusal regresyondaki kilit nokta, bağımlı değerimizin sürekli olmasıdır. Bununla birlikte, bağımsız değişkenler kategorik veya sürekli bir ölçüm ölçeğinde ölçülebilir olmalıdır. Basit doğrusal regresyon, bağımlı bir değişkeni tahmin etmek için bir bağımsız değişken kullanıldığında gerçekleşir. Örneğin, “yaş” değişkenini ile “sigara bağımlılığı” değişkeni arasındaki ilişkiye bakılarak ilgili yaşa sahip bir kişinin sigara kullanımı tahmin edilebilir. Regrasyon hakkında ki bilgilerinizi geliştirmek isterseniz aşağıdaki kaynaklara bakabilirsiniz. \n",
    "\n",
    "*Regression Models:* <br>\n",
    "*1.Simple Linear Regression*<br>\n",
    "*2.Multiple Linear Regression*<br>\n",
    "*3.Non Linear Regression*<br>\n",
    "*4.Logistic Regression*<br>\n",
    "*5.Polynominal Regression*<br>\n",
    "\n",
    "*1.Doc:* https://en.wikipedia.org/wiki/Regression_analysis <br>\n",
    "*2.Doc:* https://www.analyticsvidhya.com/blog/2015/08/comprehensive-guide-regression/ <br>\n",
    "*3.Doc:* https://medium.com/batech/do%C4%9Frusal-regresyon-algoritmas%C4%B1n%C4%B1n-mant%C4%B1%C4%9F%C4%B1-ve-uygulanmas%C4%B1-e65a86f806fd <br>\n",
    "\n",
    "Bu uygulamada *sklearn* kütüphanesine ait modüllerden yaralanacağız.<br>\n",
    "**Doc:** https://scikit-learn.org/stable/modules/generated/sklearn.linear_model.LinearRegression.html\n",
    "\n",
    "**Sklearn?** <br>\n",
    "*Sklearn* açık kaynak kodlu bir makine öğrenimi kütüphanesidir. İçerisinde popüler olarak kullanılan bir çok makine ve derin öğrenme algortimasını barındırmaktadır. Bu algoritmaları modüler olarak sadece tek satır kod ile projelerime ekleyebilir ve kullanabiliriz. Ayrıca Sklearn en popüler veri bilim araçları ve kütüphaneleri ile entegredir. Alternatifleri vardır. Örneğin *tensorflow*. Araştırınız...\n",
    "\n",
    "**Machine Learning Book:** <br>\n",
    "https://www.amazon.com/Introduction-Machine-Learning-Python-Scientists-ebook/dp/B01M0LNE8C/ref=sr_1_4?crid=3PRVREJTN1I4H&dchild=1&keywords=machine+learning&qid=1589016211&sprefix=machine+le%2Caps%2C265&sr=8-4 <br>\n",
    "\n",
    "**Dikkat:** Makine öğrenimi yeteneklerinizi geliştirebilmeniz için veri setleri ve basitten zora doğru hatta ödüllü sorular içeren açık kaynak (free) bir portal. <br>\n",
    "**Doc:** https://www.kaggle.com/"
   ]
  },
  {
   "cell_type": "code",
   "execution_count": 1,
   "metadata": {},
   "outputs": [],
   "source": [
    "import pandas as pd\n",
    "import numpy as np\n",
    "import matplotlib.pyplot as plt\n",
    "%matplotlib inline"
   ]
  },
  {
   "cell_type": "code",
   "execution_count": 2,
   "metadata": {},
   "outputs": [
    {
     "data": {
      "text/plain": [
       "'C:\\\\Users\\\\beast'"
      ]
     },
     "execution_count": 2,
     "metadata": {},
     "output_type": "execute_result"
    }
   ],
   "source": [
    "pwd"
   ]
  },
  {
   "cell_type": "code",
   "execution_count": 3,
   "metadata": {},
   "outputs": [
    {
     "name": "stdout",
     "output_type": "stream",
     "text": [
      "C:\\Users\\beast\\data\n"
     ]
    }
   ],
   "source": [
    "cd data"
   ]
  },
  {
   "cell_type": "code",
   "execution_count": 4,
   "metadata": {},
   "outputs": [
    {
     "data": {
      "text/plain": [
       "'C:\\\\Users\\\\beast\\\\data'"
      ]
     },
     "execution_count": 4,
     "metadata": {},
     "output_type": "execute_result"
    }
   ],
   "source": [
    "pwd"
   ]
  },
  {
   "cell_type": "markdown",
   "metadata": {},
   "source": [
    "**df:** Dataframe'in kısaltmasıdır. Sckitlearn ve pandas kütüphanesi vb. dokümantasonylardaki projelerde dataframe \"df\" kısatlması ile anılır. Bu bir best practice'dir. Uyulmasada olur. Dataframe geri dönücek olursak dataframe *pandas* kütüphanesine ait birincil veri yapısıdır. Excel gibi satır ve sutünlardan oluşmaktadır. "
   ]
  },
  {
   "cell_type": "markdown",
   "metadata": {},
   "source": [
    "**read_csv:** Panda kütüphanesine ait olan bu method yardımyla istediğimiz lokasyondaki *csv* formatında tutulan ve metod içerisinde parametre olarak gönderdiğimiz ilgili formattaki veriyi okuyabiliriz. \n",
    "\n",
    "**Doc:** https://pandas.pydata.org/pandas-docs/stable/reference/api/pandas.read_csv.html\n",
    "\n",
    "*Not:* \"CSV\" virgüller ile ayrılmış bir Excel formatıdır."
   ]
  },
  {
   "cell_type": "code",
   "execution_count": 5,
   "metadata": {},
   "outputs": [],
   "source": [
    "df = pd.read_csv(\"regressiondata.csv\")"
   ]
  },
  {
   "cell_type": "markdown",
   "metadata": {},
   "source": [
    "**head():** Bu method yukarıda okuduğumuz veri setine ait ilk 5 satırı bize teslim eder. <br>\n",
    "*Doc:* https://pandas.pydata.org/pandas-docs/stable/reference/api/pandas.DataFrame.head.html\n",
    "\n",
    "**Dikkat:** Burada dikkat etmeniz gereken husus şuadur. Biz *csv* formatında tutulan yani virgüller ile ayrılmış bir veri okuduk lakin okuduğumuz veriyi ekrana bastığımızda karşımıza satır ve sütunlardan oluşan bir yapı çıktı. Bunu bize sağlayan panda kütüphanesidir. Unutmayın *panda* kütüphanesi dataframe'lerle çalışır."
   ]
  },
  {
   "cell_type": "code",
   "execution_count": 25,
   "metadata": {},
   "outputs": [
    {
     "data": {
      "text/html": [
       "<div>\n",
       "<style scoped>\n",
       "    .dataframe tbody tr th:only-of-type {\n",
       "        vertical-align: middle;\n",
       "    }\n",
       "\n",
       "    .dataframe tbody tr th {\n",
       "        vertical-align: top;\n",
       "    }\n",
       "\n",
       "    .dataframe thead th {\n",
       "        text-align: right;\n",
       "    }\n",
       "</style>\n",
       "<table border=\"1\" class=\"dataframe\">\n",
       "  <thead>\n",
       "    <tr style=\"text-align: right;\">\n",
       "      <th></th>\n",
       "      <th>MODELYEAR</th>\n",
       "      <th>MAKE</th>\n",
       "      <th>MODEL</th>\n",
       "      <th>VEHICLECLASS</th>\n",
       "      <th>ENGINESIZE</th>\n",
       "      <th>CYLINDERS</th>\n",
       "      <th>TRANSMISSION</th>\n",
       "      <th>FUELTYPE</th>\n",
       "      <th>FUELCONSUMPTION_CITY</th>\n",
       "      <th>FUELCONSUMPTION_HWY</th>\n",
       "      <th>FUELCONSUMPTION_COMB</th>\n",
       "      <th>FUELCONSUMPTION_COMB_MPG</th>\n",
       "      <th>CO2EMISSIONS</th>\n",
       "    </tr>\n",
       "  </thead>\n",
       "  <tbody>\n",
       "    <tr>\n",
       "      <th>0</th>\n",
       "      <td>2014</td>\n",
       "      <td>ACURA</td>\n",
       "      <td>ILX</td>\n",
       "      <td>COMPACT</td>\n",
       "      <td>2.0</td>\n",
       "      <td>4</td>\n",
       "      <td>AS5</td>\n",
       "      <td>Z</td>\n",
       "      <td>9.9</td>\n",
       "      <td>6.7</td>\n",
       "      <td>8.5</td>\n",
       "      <td>33</td>\n",
       "      <td>196</td>\n",
       "    </tr>\n",
       "    <tr>\n",
       "      <th>1</th>\n",
       "      <td>2014</td>\n",
       "      <td>ACURA</td>\n",
       "      <td>ILX</td>\n",
       "      <td>COMPACT</td>\n",
       "      <td>2.4</td>\n",
       "      <td>4</td>\n",
       "      <td>M6</td>\n",
       "      <td>Z</td>\n",
       "      <td>11.2</td>\n",
       "      <td>7.7</td>\n",
       "      <td>9.6</td>\n",
       "      <td>29</td>\n",
       "      <td>221</td>\n",
       "    </tr>\n",
       "    <tr>\n",
       "      <th>2</th>\n",
       "      <td>2014</td>\n",
       "      <td>ACURA</td>\n",
       "      <td>ILX HYBRID</td>\n",
       "      <td>COMPACT</td>\n",
       "      <td>1.5</td>\n",
       "      <td>4</td>\n",
       "      <td>AV7</td>\n",
       "      <td>Z</td>\n",
       "      <td>6.0</td>\n",
       "      <td>5.8</td>\n",
       "      <td>5.9</td>\n",
       "      <td>48</td>\n",
       "      <td>136</td>\n",
       "    </tr>\n",
       "    <tr>\n",
       "      <th>3</th>\n",
       "      <td>2014</td>\n",
       "      <td>ACURA</td>\n",
       "      <td>MDX 4WD</td>\n",
       "      <td>SUV - SMALL</td>\n",
       "      <td>3.5</td>\n",
       "      <td>6</td>\n",
       "      <td>AS6</td>\n",
       "      <td>Z</td>\n",
       "      <td>12.7</td>\n",
       "      <td>9.1</td>\n",
       "      <td>11.1</td>\n",
       "      <td>25</td>\n",
       "      <td>255</td>\n",
       "    </tr>\n",
       "    <tr>\n",
       "      <th>4</th>\n",
       "      <td>2014</td>\n",
       "      <td>ACURA</td>\n",
       "      <td>RDX AWD</td>\n",
       "      <td>SUV - SMALL</td>\n",
       "      <td>3.5</td>\n",
       "      <td>6</td>\n",
       "      <td>AS6</td>\n",
       "      <td>Z</td>\n",
       "      <td>12.1</td>\n",
       "      <td>8.7</td>\n",
       "      <td>10.6</td>\n",
       "      <td>27</td>\n",
       "      <td>244</td>\n",
       "    </tr>\n",
       "  </tbody>\n",
       "</table>\n",
       "</div>"
      ],
      "text/plain": [
       "   MODELYEAR   MAKE       MODEL VEHICLECLASS  ENGINESIZE  CYLINDERS  \\\n",
       "0       2014  ACURA         ILX      COMPACT         2.0          4   \n",
       "1       2014  ACURA         ILX      COMPACT         2.4          4   \n",
       "2       2014  ACURA  ILX HYBRID      COMPACT         1.5          4   \n",
       "3       2014  ACURA     MDX 4WD  SUV - SMALL         3.5          6   \n",
       "4       2014  ACURA     RDX AWD  SUV - SMALL         3.5          6   \n",
       "\n",
       "  TRANSMISSION FUELTYPE  FUELCONSUMPTION_CITY  FUELCONSUMPTION_HWY  \\\n",
       "0          AS5        Z                   9.9                  6.7   \n",
       "1           M6        Z                  11.2                  7.7   \n",
       "2          AV7        Z                   6.0                  5.8   \n",
       "3          AS6        Z                  12.7                  9.1   \n",
       "4          AS6        Z                  12.1                  8.7   \n",
       "\n",
       "   FUELCONSUMPTION_COMB  FUELCONSUMPTION_COMB_MPG  CO2EMISSIONS  \n",
       "0                   8.5                        33           196  \n",
       "1                   9.6                        29           221  \n",
       "2                   5.9                        48           136  \n",
       "3                  11.1                        25           255  \n",
       "4                  10.6                        27           244  "
      ]
     },
     "execution_count": 25,
     "metadata": {},
     "output_type": "execute_result"
    }
   ],
   "source": [
    "df.head()"
   ]
  },
  {
   "cell_type": "markdown",
   "metadata": {},
   "source": [
    "**describe():** Bu method veri setimizde bulunan her bir satırdaki değeri sutün bazında bazı aritmariksel işlemler yaparak bize özet bir tablo sundu. Nedir bu aritmatiksel işlmeler;<br>\n",
    "*1.count:* Örneğin EnginSize sutununda bulunan her bir satırdaki değeri topladı.  <br>\n",
    "*2.mean:* Ortalamayı teslim etti. <br>\n",
    "*3.min & max:* En küçüçük ve en büyük motor hacmim bilgilerini bize teslim etti. <br>\n",
    "\n",
    "**Doc:** https://pandas.pydata.org/pandas-docs/stable/reference/api/pandas.DataFrame.describe.html\n",
    "\n",
    "*Not:* Aşağıdaki tabloyu incelediğinizde bu işlemlerin her bir sütuna uygulandığı görülmektedir. Bu işlemleri uygularken sayısal olmayan ve NaN (yani boş) değerler hariç tutulmaktadır. Bu methot olmasydı en küçük motor hacmine sahip araç modelini bulmak için panda kütüphanesine ait filtreleme yöntemleri kullanacaktım."
   ]
  },
  {
   "cell_type": "code",
   "execution_count": 7,
   "metadata": {},
   "outputs": [
    {
     "data": {
      "text/html": [
       "<div>\n",
       "<style scoped>\n",
       "    .dataframe tbody tr th:only-of-type {\n",
       "        vertical-align: middle;\n",
       "    }\n",
       "\n",
       "    .dataframe tbody tr th {\n",
       "        vertical-align: top;\n",
       "    }\n",
       "\n",
       "    .dataframe thead th {\n",
       "        text-align: right;\n",
       "    }\n",
       "</style>\n",
       "<table border=\"1\" class=\"dataframe\">\n",
       "  <thead>\n",
       "    <tr style=\"text-align: right;\">\n",
       "      <th></th>\n",
       "      <th>MODELYEAR</th>\n",
       "      <th>ENGINESIZE</th>\n",
       "      <th>CYLINDERS</th>\n",
       "      <th>FUELCONSUMPTION_CITY</th>\n",
       "      <th>FUELCONSUMPTION_HWY</th>\n",
       "      <th>FUELCONSUMPTION_COMB</th>\n",
       "      <th>FUELCONSUMPTION_COMB_MPG</th>\n",
       "      <th>CO2EMISSIONS</th>\n",
       "    </tr>\n",
       "  </thead>\n",
       "  <tbody>\n",
       "    <tr>\n",
       "      <th>count</th>\n",
       "      <td>1067.0</td>\n",
       "      <td>1067.000000</td>\n",
       "      <td>1067.000000</td>\n",
       "      <td>1067.000000</td>\n",
       "      <td>1067.000000</td>\n",
       "      <td>1067.000000</td>\n",
       "      <td>1067.000000</td>\n",
       "      <td>1067.000000</td>\n",
       "    </tr>\n",
       "    <tr>\n",
       "      <th>mean</th>\n",
       "      <td>2014.0</td>\n",
       "      <td>3.346298</td>\n",
       "      <td>5.794752</td>\n",
       "      <td>13.296532</td>\n",
       "      <td>9.474602</td>\n",
       "      <td>11.580881</td>\n",
       "      <td>26.441425</td>\n",
       "      <td>256.228679</td>\n",
       "    </tr>\n",
       "    <tr>\n",
       "      <th>std</th>\n",
       "      <td>0.0</td>\n",
       "      <td>1.415895</td>\n",
       "      <td>1.797447</td>\n",
       "      <td>4.101253</td>\n",
       "      <td>2.794510</td>\n",
       "      <td>3.485595</td>\n",
       "      <td>7.468702</td>\n",
       "      <td>63.372304</td>\n",
       "    </tr>\n",
       "    <tr>\n",
       "      <th>min</th>\n",
       "      <td>2014.0</td>\n",
       "      <td>1.000000</td>\n",
       "      <td>3.000000</td>\n",
       "      <td>4.600000</td>\n",
       "      <td>4.900000</td>\n",
       "      <td>4.700000</td>\n",
       "      <td>11.000000</td>\n",
       "      <td>108.000000</td>\n",
       "    </tr>\n",
       "    <tr>\n",
       "      <th>25%</th>\n",
       "      <td>2014.0</td>\n",
       "      <td>2.000000</td>\n",
       "      <td>4.000000</td>\n",
       "      <td>10.250000</td>\n",
       "      <td>7.500000</td>\n",
       "      <td>9.000000</td>\n",
       "      <td>21.000000</td>\n",
       "      <td>207.000000</td>\n",
       "    </tr>\n",
       "    <tr>\n",
       "      <th>50%</th>\n",
       "      <td>2014.0</td>\n",
       "      <td>3.400000</td>\n",
       "      <td>6.000000</td>\n",
       "      <td>12.600000</td>\n",
       "      <td>8.800000</td>\n",
       "      <td>10.900000</td>\n",
       "      <td>26.000000</td>\n",
       "      <td>251.000000</td>\n",
       "    </tr>\n",
       "    <tr>\n",
       "      <th>75%</th>\n",
       "      <td>2014.0</td>\n",
       "      <td>4.300000</td>\n",
       "      <td>8.000000</td>\n",
       "      <td>15.550000</td>\n",
       "      <td>10.850000</td>\n",
       "      <td>13.350000</td>\n",
       "      <td>31.000000</td>\n",
       "      <td>294.000000</td>\n",
       "    </tr>\n",
       "    <tr>\n",
       "      <th>max</th>\n",
       "      <td>2014.0</td>\n",
       "      <td>8.400000</td>\n",
       "      <td>12.000000</td>\n",
       "      <td>30.200000</td>\n",
       "      <td>20.500000</td>\n",
       "      <td>25.800000</td>\n",
       "      <td>60.000000</td>\n",
       "      <td>488.000000</td>\n",
       "    </tr>\n",
       "  </tbody>\n",
       "</table>\n",
       "</div>"
      ],
      "text/plain": [
       "       MODELYEAR   ENGINESIZE    CYLINDERS  FUELCONSUMPTION_CITY  \\\n",
       "count     1067.0  1067.000000  1067.000000           1067.000000   \n",
       "mean      2014.0     3.346298     5.794752             13.296532   \n",
       "std          0.0     1.415895     1.797447              4.101253   \n",
       "min       2014.0     1.000000     3.000000              4.600000   \n",
       "25%       2014.0     2.000000     4.000000             10.250000   \n",
       "50%       2014.0     3.400000     6.000000             12.600000   \n",
       "75%       2014.0     4.300000     8.000000             15.550000   \n",
       "max       2014.0     8.400000    12.000000             30.200000   \n",
       "\n",
       "       FUELCONSUMPTION_HWY  FUELCONSUMPTION_COMB  FUELCONSUMPTION_COMB_MPG  \\\n",
       "count          1067.000000           1067.000000               1067.000000   \n",
       "mean              9.474602             11.580881                 26.441425   \n",
       "std               2.794510              3.485595                  7.468702   \n",
       "min               4.900000              4.700000                 11.000000   \n",
       "25%               7.500000              9.000000                 21.000000   \n",
       "50%               8.800000             10.900000                 26.000000   \n",
       "75%              10.850000             13.350000                 31.000000   \n",
       "max              20.500000             25.800000                 60.000000   \n",
       "\n",
       "       CO2EMISSIONS  \n",
       "count   1067.000000  \n",
       "mean     256.228679  \n",
       "std       63.372304  \n",
       "min      108.000000  \n",
       "25%      207.000000  \n",
       "50%      251.000000  \n",
       "75%      294.000000  \n",
       "max      488.000000  "
      ]
     },
     "execution_count": 7,
     "metadata": {},
     "output_type": "execute_result"
    }
   ],
   "source": [
    "df.describe()"
   ]
  },
  {
   "cell_type": "markdown",
   "metadata": {},
   "source": [
    "**cdf:** Kümülatif veri çerçevesi projede ihtiyaç duyduğumuz yada duyacağımız sutünları barındırdığımız veri çerçevemizdir proje bazlı olarak oluşturulur. Bu projede biz engine size ve Co2 emmisions ihityacımız var ama örnek teşkil etmesi \n",
    "açısından birkaç tane sütun daha ekledik."
   ]
  },
  {
   "cell_type": "code",
   "execution_count": 8,
   "metadata": {},
   "outputs": [
    {
     "data": {
      "text/html": [
       "<div>\n",
       "<style scoped>\n",
       "    .dataframe tbody tr th:only-of-type {\n",
       "        vertical-align: middle;\n",
       "    }\n",
       "\n",
       "    .dataframe tbody tr th {\n",
       "        vertical-align: top;\n",
       "    }\n",
       "\n",
       "    .dataframe thead th {\n",
       "        text-align: right;\n",
       "    }\n",
       "</style>\n",
       "<table border=\"1\" class=\"dataframe\">\n",
       "  <thead>\n",
       "    <tr style=\"text-align: right;\">\n",
       "      <th></th>\n",
       "      <th>ENGINESIZE</th>\n",
       "      <th>CYLINDERS</th>\n",
       "      <th>FUELCONSUMPTION_COMB</th>\n",
       "      <th>CO2EMISSIONS</th>\n",
       "    </tr>\n",
       "  </thead>\n",
       "  <tbody>\n",
       "    <tr>\n",
       "      <th>0</th>\n",
       "      <td>2.0</td>\n",
       "      <td>4</td>\n",
       "      <td>8.5</td>\n",
       "      <td>196</td>\n",
       "    </tr>\n",
       "    <tr>\n",
       "      <th>1</th>\n",
       "      <td>2.4</td>\n",
       "      <td>4</td>\n",
       "      <td>9.6</td>\n",
       "      <td>221</td>\n",
       "    </tr>\n",
       "    <tr>\n",
       "      <th>2</th>\n",
       "      <td>1.5</td>\n",
       "      <td>4</td>\n",
       "      <td>5.9</td>\n",
       "      <td>136</td>\n",
       "    </tr>\n",
       "    <tr>\n",
       "      <th>3</th>\n",
       "      <td>3.5</td>\n",
       "      <td>6</td>\n",
       "      <td>11.1</td>\n",
       "      <td>255</td>\n",
       "    </tr>\n",
       "    <tr>\n",
       "      <th>4</th>\n",
       "      <td>3.5</td>\n",
       "      <td>6</td>\n",
       "      <td>10.6</td>\n",
       "      <td>244</td>\n",
       "    </tr>\n",
       "  </tbody>\n",
       "</table>\n",
       "</div>"
      ],
      "text/plain": [
       "   ENGINESIZE  CYLINDERS  FUELCONSUMPTION_COMB  CO2EMISSIONS\n",
       "0         2.0          4                   8.5           196\n",
       "1         2.4          4                   9.6           221\n",
       "2         1.5          4                   5.9           136\n",
       "3         3.5          6                  11.1           255\n",
       "4         3.5          6                  10.6           244"
      ]
     },
     "execution_count": 8,
     "metadata": {},
     "output_type": "execute_result"
    }
   ],
   "source": [
    "cdf = df[['ENGINESIZE','CYLINDERS','FUELCONSUMPTION_COMB','CO2EMISSIONS']]\n",
    "cdf.head()"
   ]
  },
  {
   "cell_type": "markdown",
   "metadata": {},
   "source": [
    "*Scatter:* Dağılım grafiği bir veri kümesindeki tipik olarak 2 değişken için değerleri görüntülemek üzere kullanılan bir grafiktir. \n",
    "Doc: https://matplotlib.org/3.2.0/api/_as_gen/matplotlib.pyplot.scatter.html"
   ]
  },
  {
   "cell_type": "code",
   "execution_count": 9,
   "metadata": {},
   "outputs": [
    {
     "data": {
      "image/png": "[encoded data removed]",
      "text/plain": [
       "<Figure size 432x288 with 1 Axes>"
      ]
     },
     "metadata": {
      "needs_background": "light"
     },
     "output_type": "display_data"
    }
   ],
   "source": [
    "plt.scatter(cdf.FUELCONSUMPTION_COMB, cdf.CO2EMISSIONS, color='blue')\n",
    "plt.title('The relationship between fuel consumption and Co2 emission', color='red')\n",
    "plt.xlabel('FUEL CONSUMPTION')\n",
    "plt.ylabel('CO2 EMISSIONS')\n",
    "plt.show()"
   ]
  },
  {
   "cell_type": "markdown",
   "metadata": {},
   "source": [
    "# Train & Test Splited Data Sets\n",
    "\n",
    "Projemizde kullanılan veri setimizi makine öğrenimi hususlarına uygun olarak train ve test sets olmak üzere ikiye bölmemiz gerekmektedir. \n",
    "\n",
    "**Train Set:** Train (eğitim) set bu projede kullanacağımız simple linear regression algoritmasının eğitimi için kullanılacaktır.\n",
    "\n",
    "**Test Set:** Test seti ise modelimiz eğitildikten sonra modelimizin doğruluk payını test etmek için ayırdığımız veri setimizdir.\n",
    "\n",
    "Train ve test split işleminde dikkat etmemiz gereken bazı unsurlar bulunmaktadır. Öncelikle veri seti bölme işleminde *train set*'imiz asıl veri setimizin *%80'ninden* oluşmalıdır. Yani veri setimizin yüzde seksenini eğitim için ayrılmalıdır. *Test set* için ise *%20'lik* bir dilim yeterlidir. Bölme işlemlerinde ki bu rakamlar %70'şe %30 olarakta belirlenebilir. Bu değerler best practice'dir. Yani daha önceden yapılmış projelerde bu ayrıştırma değerleri ile iiy sonuçlar alınmıştır. <br> \n",
    "\n",
    "Train set'in yüzde seksen olmasının önemli bir nedeni bulunmaktadır. Eğitim setinin daha fazla olması modelin eğitim verimliliğini arttırmaktadır. Ayrıca veri setimiz ne kadar farklı verilerden oluşursa ve miktarı artarsa modelimizin güvenirliği ve verimliliği artar. Kalan yüzdelik dilim ise test amacı ile ayrılmaktadır. <br>\n",
    "\n",
    "Ayrıştırma işleminde dikkat edilmesi gerek diğer bir husus veri setimiz üzerinden oluşturulacak train ve test sets'lerinin\n",
    "homojen olmasıdır yani bir birlerine benzer verilerden oluşmasına özen göstermelisiyiz. Diyelimki elimizde 1000 satırlık bir veri seti var ve veriseri a, b, c ve d veri tiplerini barındırsın. Bu veri setinin %80'nin train için ayırdık lakin ayırırken\n",
    "eğtim setinin içerisine yüzde 40 kadar \"*a*\" veri tipinden yüzde 40'ta \"*b*\" veri tipinden oluşturulmuş. \"*c*\" ve \"*d*\" veri tipleri yer almamıştır. Bu durum modelin verimliği ve güvenirliği üzerinde büyük zafiyetlere yol açar ve çıakn sonuç bizleri çok yanlış yargılara sürükleyebilir. Bu yüzden veri setini homojen olarak split edilmeis gerekir."
   ]
  },
  {
   "cell_type": "code",
   "execution_count": 19,
   "metadata": {},
   "outputs": [],
   "source": [
    "msk = np.random.rand(len(df)) < 0.8\n",
    "train = cdf[msk]\n",
    "test = cdf[~msk]"
   ]
  },
  {
   "cell_type": "markdown",
   "metadata": {},
   "source": [
    "Aşağıdaki *sklearn* kütüphanesine ait *linear_model* modülü import edildi. Bunun akabinde *linear_model'e* ait *LinearRegression* *regr* değişkenine assignet edildi. Artık *regr.* dediğimde linearregression modellinin bütün özelliklerine erişebileceğm. <br>\n",
    "\n",
    "Train set'imizde bulunan *EnginSize ve CO2EMISSINOS* sütunlarında bulunan değerleri *asanyarray()* metodu yardımıyla ilgili değişkenlere atadık.<br>\n",
    "\n",
    "**asanarray():** Bu fonksiyon içerisine parametre olarak verilen girdiği diziye dönüştürmek istediğimizde kullanılır. İçerisine parametre değeri olara Tuple, List ve ndarrays alabilir.<br>\n",
    "\n",
    "**regr.fit():** *LinearRegression()* modeline ait *fit()* fonksiyonu yardımıyla eğitim veri setimizde bulunan her bir veri için en ugyun fit çizgisinin katsayıları yani *Coeficients & Intercept* heasplandı ve bize teslim edildi.\n",
    "\n",
    "**Documantaion of sklearn.linear_model.LinearRegression:** https://scikit-learn.org/stable/modules/generated/sklearn.linear_model.LinearRegression.html"
   ]
  },
  {
   "cell_type": "code",
   "execution_count": 20,
   "metadata": {},
   "outputs": [
    {
     "name": "stdout",
     "output_type": "stream",
     "text": [
      "Teta 0 Coefficients:  [[38.71659192]]\n",
      "Teta 1 Intercept:  [126.473936]\n"
     ]
    }
   ],
   "source": [
    "from sklearn import linear_model\n",
    "regr = linear_model.LinearRegression()\n",
    "train_x = np.asanyarray(train[['ENGINESIZE']])\n",
    "train_y = np.asanyarray(train[['CO2EMISSIONS']])\n",
    "regr.fit(train_x, train_y)\n",
    "print('Teta 0 Coefficients: ', regr.coef_)\n",
    "print('Teta 1 Intercept: ', regr.intercept_)"
   ]
  },
  {
   "cell_type": "code",
   "execution_count": 21,
   "metadata": {},
   "outputs": [
    {
     "data": {
      "image/png": "[encoded data removed]",
      "text/plain": [
       "<Figure size 432x288 with 1 Axes>"
      ]
     },
     "metadata": {
      "needs_background": "light"
     },
     "output_type": "display_data"
    }
   ],
   "source": [
    "plt.scatter(train.ENGINESIZE, train.CO2EMISSIONS, color='blue')\n",
    "plt.plot(train_x, regr.coef_[0][0] * train_x + regr.intercept_[0], color='red') # fit çizgimiz scatter garfiğine yerleştirdik\n",
    "plt.xlabel('Engine Size')\n",
    "plt.ylabel('Co2 Emission')\n",
    "plt.show()"
   ]
  },
  {
   "cell_type": "code",
   "execution_count": 22,
   "metadata": {},
   "outputs": [
    {
     "name": "stdout",
     "output_type": "stream",
     "text": [
      "Please type into engine size: 3.4\n",
      "Carbon emission of the vehicle with engine size of 3.4: [[468.72797433]]\n"
     ]
    }
   ],
   "source": [
    "# Burada modelimizi linear doğrunun formülü ile test ettik\n",
    "# Polinomun Formülü: y = a + b * x\n",
    "# y: Bağımlı değişken yani tahmin edilmek istenilen değer (Co2Emission)\n",
    "# a: teta 0 yani coefficients -'birinci katsayı'\n",
    "# b teta 1 yani intercept - 'ikinci katsayı'\n",
    "# x: bağımsız değişken yani tahmin edilmek istenilen değere etki eden değişen (Engine Size)\n",
    "\n",
    "x = float(input(\"Please type into engine size: \"))\n",
    "y = regr.coef_ + regr.intercept_ * x\n",
    "\n",
    "print(\"Carbon emission of the vehicle with engine size of {}: {}\".format(x,y))"
   ]
  },
  {
   "cell_type": "markdown",
   "metadata": {},
   "source": [
    "### sklearn.metrics modülü\n",
    "\n",
    "Regrasyon performansınınölçmek için çeşitli kayıp, puan ve fayda işlevlerini uygulayan bir modüldür. Bunlardan bazıları çoklu output durumunu ele alacak şekilde geliştiriştir: mean_square_error, mean_absolute_error, expla_variance_score, r2_score vb. birçok metrik bulunduran çok faydalı bir modüldür. İçerisinde barındırdığı metrikleri kolaylıkla projemize implement edip modelimizin sağlamasını yapabiliriz. \n",
    "\n",
    "**Documantaion:** https://scikit-learn.org/stable/modules/classes.html#module-sklearn.metrics\n",
    "\n",
    "**Mean Absolute Error**: Bu method mutlak hata kaybı veya normal kaybının beklenen değere karşılık gelen bir risk ölçüsü olan ortlaam mutlak hayatı hesaplar. \n",
    "\n",
    "**Max_Error:** İşlevi maksimum kalan hatayı, öngörülen değer ile gerçek geğer arasındaki en kötü durum hatası yakalanan bir metrik oalrak hesaplar. Mükemmel bir şekilde sonuç alındığında max_error eğitim setin ile alınan sonuç \"0\" olur. Bu durum gereçk dünya oldukça olası değildir.\n",
    "\n",
    "**R2_Score:** Genellikle R² olarak belirtilen belirtleme katsayısını hesaplar. Modeldeki bağımsız değişkenler tarafından açıklama varyansın (y) oranını temsil eder. Aradaki uyum pekişmesinin ve dolayısıyla görğnmeyen numunelerin, açıklanan varyans oranı ile model tarafınfan ne kadar iyi tahmin edilebileceğinin bir ölçüsüdür\n",
    "\n",
    "**Varyans:** Veri kümesine bağlı olduğunda R² farklı veri kümeleri arasında anlamlı bir şekilde karlılaştırılmayabilir. Mümkün olan en iyi puan 1.0'dır ve negatifte olabilir. Girdi özelliklerini dikkate almadan her zaman beklenen y değerini tahmin eden dabit bir model R² puanu ise 0.0'olur."
   ]
  },
  {
   "cell_type": "code",
   "execution_count": 23,
   "metadata": {},
   "outputs": [
    {
     "name": "stdout",
     "output_type": "stream",
     "text": [
      "Mean Absolute Error: 23.92\n",
      "Residual Sum of Squares: 1043.52\n",
      "R2-Score: 0.68\n"
     ]
    }
   ],
   "source": [
    "from sklearn.metrics import r2_score\n",
    "\n",
    "test_x = np.asanyarray(test[['ENGINESIZE']])\n",
    "test_y = np.asanyarray(test[['CO2EMISSIONS']])\n",
    "test_y_ = regr.predict(test_x)\n",
    "\n",
    "# Mean Absolute Error: İstatistiksel ortalama mutlak hata iki sürekş değişken arasındaki farkın bir ölçüsüdür.\n",
    "# Regrasyon analizinde, ortalama kare hatası terimi bazen hata varyasının tarafsız tahminini ifade etmek için\n",
    "# kullanılır.\n",
    "print(\"Mean Absolute Error: %.2f\" % np.mean(np.absolute(test_y_ - test_y)))\n",
    "# np.mean() => Yukarıdaki iki metrikte önemli rol alan bu method belirtilen ekson boyunca aritmatik ortalamayı \n",
    "# hesaplayan bir methodur. Dizi öğelerinin ortalamasını döndürür.\n",
    "print(\"Residual Sum of Squares: %.2f\" % np.mean((test_y_ - test_y) ** 2))\n",
    "# Redisual Sum of Squares: İstatistikte kareli artıkların toplamı veya kare hata tahmini toplamı olarak da bilinene karelerin \n",
    "# artık toplamıi artıkların karelerinin toplamıdır. Veriler ve bir tahmin modeli arasındaki tutarsızlığın bir ölçüsüdür.\n",
    "# Küçük bir RSS modelin verelere sıkıca uyduğunu gösterir. Yani RSS değerinin sıfıra yakın olması modelin doğruluk \n",
    "# payını gösterir.\n",
    "print(\"R2-Score: %.2f\" % r2_score(test_y_, test_y))\n",
    "# Regrasyonda R2 belirleme katsayısı regrasyon tahminlerinin geçek veri notkarlarına ne kaddar iyi yaklaştığının \n",
    "# istatiksel bir ölçümüdür. R2 skroru 1'e yaklaştıkça regrsasyon fit çizgisinin verilere mükemmel şekilde uyduğunu gösterir."
   ]
  },
  {
   "cell_type": "code",
   "execution_count": null,
   "metadata": {},
   "outputs": [],
   "source": []
  },
  {
   "cell_type": "code",
   "execution_count": null,
   "metadata": {},
   "outputs": [],
   "source": []
  },
  {
   "cell_type": "code",
   "execution_count": null,
   "metadata": {},
   "outputs": [],
   "source": []
  },
  {
   "cell_type": "code",
   "execution_count": null,
   "metadata": {},
   "outputs": [],
   "source": []
  },
  {
   "cell_type": "code",
   "execution_count": null,
   "metadata": {},
   "outputs": [],
   "source": []
  }
 ],
 "metadata": {
  "kernelspec": {
   "display_name": "Python 3",
   "language": "python",
   "name": "python3"
  },
  "language_info": {
   "codemirror_mode": {
    "name": "ipython",
    "version": 3
   },
   "file_extension": ".py",
   "mimetype": "text/x-python",
   "name": "python",
   "nbconvert_exporter": "python",
   "pygments_lexer": "ipython3",
   "version": "3.7.6"
  }
 },
 "nbformat": 4,
 "nbformat_minor": 4
}
